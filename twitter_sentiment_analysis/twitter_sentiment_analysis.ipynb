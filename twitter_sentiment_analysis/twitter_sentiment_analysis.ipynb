{
  "nbformat": 4,
  "nbformat_minor": 0,
  "metadata": {
    "colab": {
      "name": "twitter_sentiment_analysis.ipynb",
      "provenance": [],
      "collapsed_sections": []
    },
    "kernelspec": {
      "name": "python3",
      "display_name": "Python 3"
    }
  },
  "cells": [
    {
      "cell_type": "code",
      "metadata": {
        "colab": {
          "base_uri": "https://localhost:8080/"
        },
        "id": "eV6zZpVHIfwA",
        "outputId": "08168a56-489c-48d9-eb82-304d8c951e48"
      },
      "source": [
        "!ls"
      ],
      "execution_count": null,
      "outputs": [
        {
          "output_type": "stream",
          "text": [
            "sample_data\n"
          ],
          "name": "stdout"
        }
      ]
    },
    {
      "cell_type": "code",
      "metadata": {
        "colab": {
          "base_uri": "https://localhost:8080/"
        },
        "id": "VzPrShsVItEF",
        "outputId": "f66cf280-5dc7-490b-8258-1db4fef7ddf0"
      },
      "source": [
        "!wget https://github.com/futurexskill/ml-model-deployment/raw/main/tfidfmodel.pickle"
      ],
      "execution_count": null,
      "outputs": [
        {
          "output_type": "stream",
          "text": [
            "--2020-11-28 23:14:50--  https://github.com/futurexskill/ml-model-deployment/raw/main/tfidfmodel.pickle\n",
            "Resolving github.com (github.com)... 192.30.255.112\n",
            "Connecting to github.com (github.com)|192.30.255.112|:443... connected.\n",
            "HTTP request sent, awaiting response... 302 Found\n",
            "Location: https://raw.githubusercontent.com/futurexskill/ml-model-deployment/main/tfidfmodel.pickle [following]\n",
            "--2020-11-28 23:14:50--  https://raw.githubusercontent.com/futurexskill/ml-model-deployment/main/tfidfmodel.pickle\n",
            "Resolving raw.githubusercontent.com (raw.githubusercontent.com)... 151.101.0.133, 151.101.64.133, 151.101.128.133, ...\n",
            "Connecting to raw.githubusercontent.com (raw.githubusercontent.com)|151.101.0.133|:443... connected.\n",
            "HTTP request sent, awaiting response... 200 OK\n",
            "Length: 49660 (48K) [application/octet-stream]\n",
            "Saving to: ‘tfidfmodel.pickle’\n",
            "\n",
            "tfidfmodel.pickle   100%[===================>]  48.50K  --.-KB/s    in 0.009s  \n",
            "\n",
            "2020-11-28 23:14:50 (5.12 MB/s) - ‘tfidfmodel.pickle’ saved [49660/49660]\n",
            "\n"
          ],
          "name": "stdout"
        }
      ]
    },
    {
      "cell_type": "code",
      "metadata": {
        "colab": {
          "base_uri": "https://localhost:8080/"
        },
        "id": "k8xdLoxlIziR",
        "outputId": "ec4b7463-2892-4d40-b0d2-772739b76d3c"
      },
      "source": [
        "!wget https://github.com/futurexskill/ml-model-deployment/raw/main/textclassifier.pickle"
      ],
      "execution_count": null,
      "outputs": [
        {
          "output_type": "stream",
          "text": [
            "--2020-11-28 23:15:12--  https://github.com/futurexskill/ml-model-deployment/raw/main/textclassifier.pickle\n",
            "Resolving github.com (github.com)... 192.30.255.112\n",
            "Connecting to github.com (github.com)|192.30.255.112|:443... connected.\n",
            "HTTP request sent, awaiting response... 302 Found\n",
            "Location: https://raw.githubusercontent.com/futurexskill/ml-model-deployment/main/textclassifier.pickle [following]\n",
            "--2020-11-28 23:15:12--  https://raw.githubusercontent.com/futurexskill/ml-model-deployment/main/textclassifier.pickle\n",
            "Resolving raw.githubusercontent.com (raw.githubusercontent.com)... 151.101.0.133, 151.101.64.133, 151.101.128.133, ...\n",
            "Connecting to raw.githubusercontent.com (raw.githubusercontent.com)|151.101.0.133|:443... connected.\n",
            "HTTP request sent, awaiting response... 200 OK\n",
            "Length: 3235575 (3.1M) [application/octet-stream]\n",
            "Saving to: ‘textclassifier.pickle’\n",
            "\n",
            "textclassifier.pick 100%[===================>]   3.08M  --.-KB/s    in 0.09s   \n",
            "\n",
            "2020-11-28 23:15:13 (35.7 MB/s) - ‘textclassifier.pickle’ saved [3235575/3235575]\n",
            "\n"
          ],
          "name": "stdout"
        }
      ]
    },
    {
      "cell_type": "code",
      "metadata": {
        "colab": {
          "base_uri": "https://localhost:8080/"
        },
        "id": "-GzkInCsI48E",
        "outputId": "293ba7a1-d8eb-4a95-c51f-b5d015577bb7"
      },
      "source": [
        "!ls"
      ],
      "execution_count": null,
      "outputs": [
        {
          "output_type": "stream",
          "text": [
            "sample_data  textclassifier.pickle  tfidfmodel.pickle\n"
          ],
          "name": "stdout"
        }
      ]
    },
    {
      "cell_type": "code",
      "metadata": {
        "id": "dFQmxWA2I6Ko"
      },
      "source": [
        "import tweepy"
      ],
      "execution_count": null,
      "outputs": []
    },
    {
      "cell_type": "code",
      "metadata": {
        "id": "l5QAKWvMJJze"
      },
      "source": [
        "consumer_key='tTSpcdoqk2hPeaTWjKrrMd3jG'\n",
        "consumer_secret='RX62QGkaWrgqP8xQT6Kx1dfexXYGQCACZtW3qrqrWSjVzreMca'\n",
        "access_token ='1156204423539912704-17tCaEtatgGqPNvS7GXGY4NLE0avt2'\n",
        "access_secret='jYqZNbGnUE7psVAqKsxsjSctKbL1P6r9U6o1mMYKYbdDr'"
      ],
      "execution_count": null,
      "outputs": []
    },
    {
      "cell_type": "code",
      "metadata": {
        "id": "sOLVL_KxJMeU"
      },
      "source": [
        "auth = tweepy.OAuthHandler(consumer_key, consumer_secret)\n",
        "auth.set_access_token(access_token, access_secret)"
      ],
      "execution_count": null,
      "outputs": []
    },
    {
      "cell_type": "code",
      "metadata": {
        "id": "kfVXpr3bJ0oF"
      },
      "source": [
        "api = tweepy.API(auth,timeout=20)"
      ],
      "execution_count": null,
      "outputs": []
    },
    {
      "cell_type": "code",
      "metadata": {
        "id": "eB8ANVp0J5ON"
      },
      "source": [
        "tweet_text = 'vaccine';\n"
      ],
      "execution_count": null,
      "outputs": []
    },
    {
      "cell_type": "code",
      "metadata": {
        "id": "3J7S7bOLKChr"
      },
      "source": [
        "tweets_list = []\n"
      ],
      "execution_count": null,
      "outputs": []
    },
    {
      "cell_type": "code",
      "metadata": {
        "id": "rOQ4-ertKFwc"
      },
      "source": [
        "for status in tweepy.Cursor(api.search,q=tweet_text,lang='en',result_type='recent').items(500):\n",
        "        tweets_list.append(status.text)"
      ],
      "execution_count": null,
      "outputs": []
    },
    {
      "cell_type": "code",
      "metadata": {
        "colab": {
          "base_uri": "https://localhost:8080/"
        },
        "id": "OG41xGqpKLBf",
        "outputId": "e2586fb2-229a-4707-babd-bdfb25731059"
      },
      "source": [
        "len(tweets_list)"
      ],
      "execution_count": null,
      "outputs": [
        {
          "output_type": "execute_result",
          "data": {
            "text/plain": [
              "500"
            ]
          },
          "metadata": {
            "tags": []
          },
          "execution_count": 25
        }
      ]
    },
    {
      "cell_type": "code",
      "metadata": {
        "colab": {
          "base_uri": "https://localhost:8080/",
          "height": 52
        },
        "id": "ld-BqJUfKQnk",
        "outputId": "a7934f2b-91ff-415d-a234-c9e69b9e910c"
      },
      "source": [
        "tweets_list[30]"
      ],
      "execution_count": null,
      "outputs": [
        {
          "output_type": "execute_result",
          "data": {
            "application/vnd.google.colaboratory.intrinsic+json": {
              "type": "string"
            },
            "text/plain": [
              "'RT @928Neil: Phiezer and modeRNA)are using messenger (RNA) to fight corona or corRNA) RNA=666+6 just like all the add ups of corona=666+6 t…'"
            ]
          },
          "metadata": {
            "tags": []
          },
          "execution_count": 26
        }
      ]
    },
    {
      "cell_type": "code",
      "metadata": {
        "id": "fgeOd8qJKTqX"
      },
      "source": [
        "import re"
      ],
      "execution_count": null,
      "outputs": []
    },
    {
      "cell_type": "code",
      "metadata": {
        "id": "Vwmws5ZTKjv5"
      },
      "source": [
        "for i in range(len(tweets_list)):\n",
        "  # get each tweet\n",
        "  tweet = tweets_list[i]\n",
        "  tweet = tweet.lower()\n",
        "  # remove junk characters \n",
        "  tweet = re.sub(r'\\W',' ',tweet)\n",
        "  # remove one or more space\n",
        "  tweet = re.sub(r'\\s+',' ',tweet)\n",
        "  # Remove all characters except a to z or A to Z and replace them with a space\n",
        "  tweet = re.sub('[^a-zA-Z]',' ',tweet)\n",
        "  # store the clean tweet back in the list\n",
        "  tweets_list[i] = tweet"
      ],
      "execution_count": null,
      "outputs": []
    },
    {
      "cell_type": "code",
      "metadata": {
        "colab": {
          "base_uri": "https://localhost:8080/",
          "height": 52
        },
        "id": "YdM_PtHVKyXo",
        "outputId": "6f40a1a3-b508-406a-f13b-f1e2961531ab"
      },
      "source": [
        "tweets_list[30]"
      ],
      "execution_count": null,
      "outputs": [
        {
          "output_type": "execute_result",
          "data": {
            "application/vnd.google.colaboratory.intrinsic+json": {
              "type": "string"
            },
            "text/plain": [
              "'rt    neil phiezer and moderna are using messenger rna to fight corona or corrna rna       just like all the add ups of corona       t '"
            ]
          },
          "metadata": {
            "tags": []
          },
          "execution_count": 29
        }
      ]
    },
    {
      "cell_type": "code",
      "metadata": {
        "id": "p6sq28_5LMwX"
      },
      "source": [
        "import pickle"
      ],
      "execution_count": null,
      "outputs": []
    },
    {
      "cell_type": "code",
      "metadata": {
        "id": "3HdS6VxAK9j3"
      },
      "source": [
        "with open('textclassifier.pickle','rb') as file:\n",
        "    classifier = pickle.load(file)"
      ],
      "execution_count": null,
      "outputs": []
    },
    {
      "cell_type": "code",
      "metadata": {
        "id": "40swp5EwLLaa"
      },
      "source": [
        "with open('tfidfmodel.pickle','rb') as file:\n",
        "    tfidf = pickle.load(file)"
      ],
      "execution_count": null,
      "outputs": []
    },
    {
      "cell_type": "code",
      "metadata": {
        "id": "DRyD8d3ULRPr"
      },
      "source": [
        "positive_tweet = 0\n",
        "negative_tweet = 0"
      ],
      "execution_count": null,
      "outputs": []
    },
    {
      "cell_type": "code",
      "metadata": {
        "id": "j4RuCAy-LUOU"
      },
      "source": [
        "for tweet in tweets_list:\n",
        "  sentiment = classifier.predict(tfidf.transform([tweet]).toarray())\n",
        "  if sentiment[0] == 1:\n",
        "    positive_tweet += 1\n",
        "  else:\n",
        "    negative_tweet += 1"
      ],
      "execution_count": null,
      "outputs": []
    },
    {
      "cell_type": "code",
      "metadata": {
        "colab": {
          "base_uri": "https://localhost:8080/"
        },
        "id": "0M0aUoAnLeDA",
        "outputId": "5904c462-9243-4b6e-bd6c-d23ca6b87c21"
      },
      "source": [
        "positive_tweet\n"
      ],
      "execution_count": null,
      "outputs": [
        {
          "output_type": "execute_result",
          "data": {
            "text/plain": [
              "97"
            ]
          },
          "metadata": {
            "tags": []
          },
          "execution_count": 36
        }
      ]
    },
    {
      "cell_type": "code",
      "metadata": {
        "colab": {
          "base_uri": "https://localhost:8080/"
        },
        "id": "hYoouZRjLhOe",
        "outputId": "304a8021-0b73-4c2e-9a32-36371f37bd16"
      },
      "source": [
        "negative_tweet"
      ],
      "execution_count": null,
      "outputs": [
        {
          "output_type": "execute_result",
          "data": {
            "text/plain": [
              "403"
            ]
          },
          "metadata": {
            "tags": []
          },
          "execution_count": 37
        }
      ]
    },
    {
      "cell_type": "code",
      "metadata": {
        "id": "KxpfTan_Lvph"
      },
      "source": [
        ""
      ],
      "execution_count": null,
      "outputs": []
    }
  ]
}